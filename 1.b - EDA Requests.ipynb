{
 "cells": [
  {
   "cell_type": "markdown",
   "metadata": {},
   "source": [
    "# Exploratory Data Analysis for Requests\n",
    "\n",
    "\n",
    "## Conclusions and key findings from EDA:\n",
    "\n",
    "Cash Requests:\n",
    "\n",
    "- At first glance, it seems there's no relevant missing data or corrupted data:\n",
    "    - There's 2103 requests without `user_id`. All of them seem to correspond to deleted_accounts (which seems to indicate that the data for `user_id`/`deleted_account_id` is reliable).\n",
    "    - There's other columns with missing data but it seems normal (those columns only apply to specific cases)\n",
    "    - All the entries for amount seem to be in normal ranges (min amount is 1; max amount is 200)\n",
    "\n",
    "- Format:\n",
    "    - The columns `user_id` and `deleted_account_id` are stored as float. They need to be converted to int.\n",
    "    - All columns with dates need to be converted to a valid date format. \n",
    "        - Note: at the moment they're stored as str and float (those with float are likely because the data is NaN)\n",
    "        - List of columns to convert to date:\n",
    "            - \"created_at\"\n",
    "            - \"updated_at\"\n",
    "            - \"moderated_at\"\n",
    "            - \"reimbursement_date\"\n",
    "            - \"cash_request_received_date\"\n",
    "            - \"money_back_date\"\n",
    "            - \"send_at\"\n",
    "            - \"reco_creation\"\n",
    "            - \"reco_last_update\"\n",
    "\n",
    "\n",
    "<br>\n",
    "<br>\n"
   ]
  },
  {
   "cell_type": "code",
   "execution_count": 1,
   "metadata": {},
   "outputs": [],
   "source": [
    "import pandas as pd\n",
    "\n",
    "requests = pd.read_csv(\"project_dataset\\\\extract - cash request - data analyst.csv\")\n"
   ]
  },
  {
   "cell_type": "markdown",
   "metadata": {},
   "source": [
    "## EDA: fees\n"
   ]
  },
  {
   "cell_type": "code",
   "execution_count": 17,
   "metadata": {},
   "outputs": [
    {
     "data": {
      "text/plain": [
       "(23970, 16)"
      ]
     },
     "metadata": {},
     "output_type": "display_data"
    },
    {
     "data": {
      "text/plain": [
       "Index(['id', 'amount', 'status', 'created_at', 'updated_at', 'user_id',\n",
       "       'moderated_at', 'deleted_account_id', 'reimbursement_date',\n",
       "       'cash_request_received_date', 'money_back_date', 'transfer_type',\n",
       "       'send_at', 'recovery_status', 'reco_creation', 'reco_last_update'],\n",
       "      dtype='object')"
      ]
     },
     "metadata": {},
     "output_type": "display_data"
    },
    {
     "data": {
      "text/html": [
       "<div>\n",
       "<style scoped>\n",
       "    .dataframe tbody tr th:only-of-type {\n",
       "        vertical-align: middle;\n",
       "    }\n",
       "\n",
       "    .dataframe tbody tr th {\n",
       "        vertical-align: top;\n",
       "    }\n",
       "\n",
       "    .dataframe thead th {\n",
       "        text-align: right;\n",
       "    }\n",
       "</style>\n",
       "<table border=\"1\" class=\"dataframe\">\n",
       "  <thead>\n",
       "    <tr style=\"text-align: right;\">\n",
       "      <th></th>\n",
       "      <th>id</th>\n",
       "      <th>amount</th>\n",
       "      <th>status</th>\n",
       "      <th>created_at</th>\n",
       "      <th>updated_at</th>\n",
       "      <th>user_id</th>\n",
       "      <th>moderated_at</th>\n",
       "      <th>deleted_account_id</th>\n",
       "      <th>reimbursement_date</th>\n",
       "      <th>cash_request_received_date</th>\n",
       "      <th>money_back_date</th>\n",
       "      <th>transfer_type</th>\n",
       "      <th>send_at</th>\n",
       "      <th>recovery_status</th>\n",
       "      <th>reco_creation</th>\n",
       "      <th>reco_last_update</th>\n",
       "    </tr>\n",
       "  </thead>\n",
       "  <tbody>\n",
       "    <tr>\n",
       "      <th>0</th>\n",
       "      <td>5</td>\n",
       "      <td>100.0</td>\n",
       "      <td>rejected</td>\n",
       "      <td>2019-12-10 19:05:21.596873+00</td>\n",
       "      <td>2019-12-11 16:47:42.40783+00</td>\n",
       "      <td>804.0</td>\n",
       "      <td>2019-12-11 16:47:42.405646+00</td>\n",
       "      <td>NaN</td>\n",
       "      <td>2020-01-09 19:05:21.596363+00</td>\n",
       "      <td>NaN</td>\n",
       "      <td>NaN</td>\n",
       "      <td>regular</td>\n",
       "      <td>NaN</td>\n",
       "      <td>NaN</td>\n",
       "      <td>NaN</td>\n",
       "      <td>NaN</td>\n",
       "    </tr>\n",
       "    <tr>\n",
       "      <th>1</th>\n",
       "      <td>70</td>\n",
       "      <td>100.0</td>\n",
       "      <td>rejected</td>\n",
       "      <td>2019-12-10 19:50:12.34778+00</td>\n",
       "      <td>2019-12-11 14:24:22.900054+00</td>\n",
       "      <td>231.0</td>\n",
       "      <td>2019-12-11 14:24:22.897988+00</td>\n",
       "      <td>NaN</td>\n",
       "      <td>2020-01-09 19:50:12.34778+00</td>\n",
       "      <td>NaN</td>\n",
       "      <td>NaN</td>\n",
       "      <td>regular</td>\n",
       "      <td>NaN</td>\n",
       "      <td>NaN</td>\n",
       "      <td>NaN</td>\n",
       "      <td>NaN</td>\n",
       "    </tr>\n",
       "    <tr>\n",
       "      <th>2</th>\n",
       "      <td>7</td>\n",
       "      <td>100.0</td>\n",
       "      <td>rejected</td>\n",
       "      <td>2019-12-10 19:13:35.82546+00</td>\n",
       "      <td>2019-12-11 09:46:59.779773+00</td>\n",
       "      <td>191.0</td>\n",
       "      <td>2019-12-11 09:46:59.777728+00</td>\n",
       "      <td>NaN</td>\n",
       "      <td>2020-01-09 19:13:35.825041+00</td>\n",
       "      <td>NaN</td>\n",
       "      <td>NaN</td>\n",
       "      <td>regular</td>\n",
       "      <td>NaN</td>\n",
       "      <td>NaN</td>\n",
       "      <td>NaN</td>\n",
       "      <td>NaN</td>\n",
       "    </tr>\n",
       "    <tr>\n",
       "      <th>3</th>\n",
       "      <td>10</td>\n",
       "      <td>99.0</td>\n",
       "      <td>rejected</td>\n",
       "      <td>2019-12-10 19:16:10.880172+00</td>\n",
       "      <td>2019-12-18 14:26:18.136163+00</td>\n",
       "      <td>761.0</td>\n",
       "      <td>2019-12-18 14:26:18.128407+00</td>\n",
       "      <td>NaN</td>\n",
       "      <td>2020-01-09 19:16:10.879606+00</td>\n",
       "      <td>NaN</td>\n",
       "      <td>NaN</td>\n",
       "      <td>regular</td>\n",
       "      <td>NaN</td>\n",
       "      <td>NaN</td>\n",
       "      <td>NaN</td>\n",
       "      <td>NaN</td>\n",
       "    </tr>\n",
       "    <tr>\n",
       "      <th>4</th>\n",
       "      <td>1594</td>\n",
       "      <td>100.0</td>\n",
       "      <td>rejected</td>\n",
       "      <td>2020-05-06 09:59:38.877376+00</td>\n",
       "      <td>2020-05-07 09:21:55.34008+00</td>\n",
       "      <td>7686.0</td>\n",
       "      <td>2020-05-07 09:21:55.320193+00</td>\n",
       "      <td>NaN</td>\n",
       "      <td>2020-06-05 22:00:00+00</td>\n",
       "      <td>NaN</td>\n",
       "      <td>NaN</td>\n",
       "      <td>regular</td>\n",
       "      <td>NaN</td>\n",
       "      <td>NaN</td>\n",
       "      <td>NaN</td>\n",
       "      <td>NaN</td>\n",
       "    </tr>\n",
       "  </tbody>\n",
       "</table>\n",
       "</div>"
      ],
      "text/plain": [
       "     id  amount    status                     created_at  \\\n",
       "0     5   100.0  rejected  2019-12-10 19:05:21.596873+00   \n",
       "1    70   100.0  rejected   2019-12-10 19:50:12.34778+00   \n",
       "2     7   100.0  rejected   2019-12-10 19:13:35.82546+00   \n",
       "3    10    99.0  rejected  2019-12-10 19:16:10.880172+00   \n",
       "4  1594   100.0  rejected  2020-05-06 09:59:38.877376+00   \n",
       "\n",
       "                      updated_at  user_id                   moderated_at  \\\n",
       "0   2019-12-11 16:47:42.40783+00    804.0  2019-12-11 16:47:42.405646+00   \n",
       "1  2019-12-11 14:24:22.900054+00    231.0  2019-12-11 14:24:22.897988+00   \n",
       "2  2019-12-11 09:46:59.779773+00    191.0  2019-12-11 09:46:59.777728+00   \n",
       "3  2019-12-18 14:26:18.136163+00    761.0  2019-12-18 14:26:18.128407+00   \n",
       "4   2020-05-07 09:21:55.34008+00   7686.0  2020-05-07 09:21:55.320193+00   \n",
       "\n",
       "   deleted_account_id             reimbursement_date  \\\n",
       "0                 NaN  2020-01-09 19:05:21.596363+00   \n",
       "1                 NaN   2020-01-09 19:50:12.34778+00   \n",
       "2                 NaN  2020-01-09 19:13:35.825041+00   \n",
       "3                 NaN  2020-01-09 19:16:10.879606+00   \n",
       "4                 NaN         2020-06-05 22:00:00+00   \n",
       "\n",
       "  cash_request_received_date money_back_date transfer_type send_at  \\\n",
       "0                        NaN             NaN       regular     NaN   \n",
       "1                        NaN             NaN       regular     NaN   \n",
       "2                        NaN             NaN       regular     NaN   \n",
       "3                        NaN             NaN       regular     NaN   \n",
       "4                        NaN             NaN       regular     NaN   \n",
       "\n",
       "  recovery_status reco_creation reco_last_update  \n",
       "0             NaN           NaN              NaN  \n",
       "1             NaN           NaN              NaN  \n",
       "2             NaN           NaN              NaN  \n",
       "3             NaN           NaN              NaN  \n",
       "4             NaN           NaN              NaN  "
      ]
     },
     "metadata": {},
     "output_type": "display_data"
    }
   ],
   "source": [
    "display(requests.shape)\n",
    "display(requests.columns)\n",
    "display(requests.head())\n",
    "# display(requests.sample(10))\n",
    "# display(requests.tail())"
   ]
  },
  {
   "cell_type": "code",
   "execution_count": 4,
   "metadata": {},
   "outputs": [
    {
     "data": {
      "text/html": [
       "<div>\n",
       "<style scoped>\n",
       "    .dataframe tbody tr th:only-of-type {\n",
       "        vertical-align: middle;\n",
       "    }\n",
       "\n",
       "    .dataframe tbody tr th {\n",
       "        vertical-align: top;\n",
       "    }\n",
       "\n",
       "    .dataframe thead th {\n",
       "        text-align: right;\n",
       "    }\n",
       "</style>\n",
       "<table border=\"1\" class=\"dataframe\">\n",
       "  <thead>\n",
       "    <tr style=\"text-align: right;\">\n",
       "      <th></th>\n",
       "      <th>id</th>\n",
       "      <th>amount</th>\n",
       "      <th>user_id</th>\n",
       "      <th>deleted_account_id</th>\n",
       "    </tr>\n",
       "  </thead>\n",
       "  <tbody>\n",
       "    <tr>\n",
       "      <th>count</th>\n",
       "      <td>23970.000000</td>\n",
       "      <td>23970.000000</td>\n",
       "      <td>21867.000000</td>\n",
       "      <td>2104.000000</td>\n",
       "    </tr>\n",
       "    <tr>\n",
       "      <th>mean</th>\n",
       "      <td>13910.966124</td>\n",
       "      <td>82.720818</td>\n",
       "      <td>32581.250789</td>\n",
       "      <td>9658.755228</td>\n",
       "    </tr>\n",
       "    <tr>\n",
       "      <th>std</th>\n",
       "      <td>7788.117214</td>\n",
       "      <td>26.528065</td>\n",
       "      <td>27618.565773</td>\n",
       "      <td>7972.743249</td>\n",
       "    </tr>\n",
       "    <tr>\n",
       "      <th>min</th>\n",
       "      <td>3.000000</td>\n",
       "      <td>1.000000</td>\n",
       "      <td>34.000000</td>\n",
       "      <td>91.000000</td>\n",
       "    </tr>\n",
       "    <tr>\n",
       "      <th>25%</th>\n",
       "      <td>7427.250000</td>\n",
       "      <td>50.000000</td>\n",
       "      <td>10804.000000</td>\n",
       "      <td>3767.000000</td>\n",
       "    </tr>\n",
       "    <tr>\n",
       "      <th>50%</th>\n",
       "      <td>14270.500000</td>\n",
       "      <td>100.000000</td>\n",
       "      <td>23773.000000</td>\n",
       "      <td>6121.500000</td>\n",
       "    </tr>\n",
       "    <tr>\n",
       "      <th>75%</th>\n",
       "      <td>20607.750000</td>\n",
       "      <td>100.000000</td>\n",
       "      <td>46965.000000</td>\n",
       "      <td>16345.000000</td>\n",
       "    </tr>\n",
       "    <tr>\n",
       "      <th>max</th>\n",
       "      <td>27010.000000</td>\n",
       "      <td>200.000000</td>\n",
       "      <td>103719.000000</td>\n",
       "      <td>30445.000000</td>\n",
       "    </tr>\n",
       "  </tbody>\n",
       "</table>\n",
       "</div>"
      ],
      "text/plain": [
       "                 id        amount        user_id  deleted_account_id\n",
       "count  23970.000000  23970.000000   21867.000000         2104.000000\n",
       "mean   13910.966124     82.720818   32581.250789         9658.755228\n",
       "std     7788.117214     26.528065   27618.565773         7972.743249\n",
       "min        3.000000      1.000000      34.000000           91.000000\n",
       "25%     7427.250000     50.000000   10804.000000         3767.000000\n",
       "50%    14270.500000    100.000000   23773.000000         6121.500000\n",
       "75%    20607.750000    100.000000   46965.000000        16345.000000\n",
       "max    27010.000000    200.000000  103719.000000        30445.000000"
      ]
     },
     "metadata": {},
     "output_type": "display_data"
    }
   ],
   "source": [
    "display(requests.describe())"
   ]
  },
  {
   "cell_type": "code",
   "execution_count": 23,
   "metadata": {},
   "outputs": [
    {
     "data": {
      "text/plain": [
       "id                                0\n",
       "amount                            0\n",
       "status                            0\n",
       "created_at                        0\n",
       "updated_at                        0\n",
       "user_id                        2103\n",
       "moderated_at                   7935\n",
       "deleted_account_id            21866\n",
       "reimbursement_date                0\n",
       "cash_request_received_date     7681\n",
       "money_back_date                7427\n",
       "transfer_type                     0\n",
       "send_at                        7329\n",
       "recovery_status               20640\n",
       "reco_creation                 20640\n",
       "reco_last_update              20640\n",
       "dtype: int64"
      ]
     },
     "execution_count": 23,
     "metadata": {},
     "output_type": "execute_result"
    }
   ],
   "source": [
    "# check missing data\n",
    "\n",
    "requests.isna().sum()"
   ]
  },
  {
   "cell_type": "code",
   "execution_count": 20,
   "metadata": {},
   "outputs": [
    {
     "data": {
      "text/html": [
       "<div>\n",
       "<style scoped>\n",
       "    .dataframe tbody tr th:only-of-type {\n",
       "        vertical-align: middle;\n",
       "    }\n",
       "\n",
       "    .dataframe tbody tr th {\n",
       "        vertical-align: top;\n",
       "    }\n",
       "\n",
       "    .dataframe thead th {\n",
       "        text-align: right;\n",
       "    }\n",
       "</style>\n",
       "<table border=\"1\" class=\"dataframe\">\n",
       "  <thead>\n",
       "    <tr style=\"text-align: right;\">\n",
       "      <th></th>\n",
       "      <th>id</th>\n",
       "      <th>amount</th>\n",
       "      <th>status</th>\n",
       "      <th>created_at</th>\n",
       "      <th>updated_at</th>\n",
       "      <th>user_id</th>\n",
       "      <th>moderated_at</th>\n",
       "      <th>deleted_account_id</th>\n",
       "      <th>reimbursement_date</th>\n",
       "      <th>cash_request_received_date</th>\n",
       "      <th>money_back_date</th>\n",
       "      <th>transfer_type</th>\n",
       "      <th>send_at</th>\n",
       "      <th>recovery_status</th>\n",
       "      <th>reco_creation</th>\n",
       "      <th>reco_last_update</th>\n",
       "    </tr>\n",
       "  </thead>\n",
       "  <tbody>\n",
       "  </tbody>\n",
       "</table>\n",
       "</div>"
      ],
      "text/plain": [
       "Empty DataFrame\n",
       "Columns: [id, amount, status, created_at, updated_at, user_id, moderated_at, deleted_account_id, reimbursement_date, cash_request_received_date, money_back_date, transfer_type, send_at, recovery_status, reco_creation, reco_last_update]\n",
       "Index: []"
      ]
     },
     "execution_count": 20,
     "metadata": {},
     "output_type": "execute_result"
    }
   ],
   "source": [
    "# Check requests without user_id\n",
    "\n",
    "requests[requests[\"user_id\"].isna()].shape[0] # 2103\n",
    "\n",
    "requests[(requests[\"user_id\"].isna()) & (requests[\"deleted_account_id\"].isna())] # 0\n",
    "\n",
    "# Result: all requests without user_id seem to correspond to deleted_accounts (which seems to indicate that the data for user_id is reliable)\n"
   ]
  },
  {
   "cell_type": "code",
   "execution_count": 25,
   "metadata": {},
   "outputs": [
    {
     "data": {
      "text/plain": [
       "id                              int64\n",
       "amount                        float64\n",
       "status                         object\n",
       "created_at                     object\n",
       "updated_at                     object\n",
       "user_id                       float64\n",
       "moderated_at                   object\n",
       "deleted_account_id            float64\n",
       "reimbursement_date             object\n",
       "cash_request_received_date     object\n",
       "money_back_date                object\n",
       "transfer_type                  object\n",
       "send_at                        object\n",
       "recovery_status                object\n",
       "reco_creation                  object\n",
       "reco_last_update               object\n",
       "dtype: object"
      ]
     },
     "execution_count": 25,
     "metadata": {},
     "output_type": "execute_result"
    }
   ],
   "source": [
    "# check data types\n",
    "\n",
    "requests.dtypes"
   ]
  },
  {
   "cell_type": "code",
   "execution_count": 31,
   "metadata": {},
   "outputs": [
    {
     "data": {
      "text/plain": [
       "array([<class 'str'>], dtype=object)"
      ]
     },
     "metadata": {},
     "output_type": "display_data"
    },
    {
     "data": {
      "text/plain": [
       "array([<class 'str'>], dtype=object)"
      ]
     },
     "metadata": {},
     "output_type": "display_data"
    },
    {
     "data": {
      "text/plain": [
       "array([<class 'str'>], dtype=object)"
      ]
     },
     "metadata": {},
     "output_type": "display_data"
    },
    {
     "data": {
      "text/plain": [
       "array([<class 'str'>, <class 'float'>], dtype=object)"
      ]
     },
     "metadata": {},
     "output_type": "display_data"
    },
    {
     "name": "stdout",
     "output_type": "stream",
     "text": [
      "....\n"
     ]
    },
    {
     "data": {
      "text/plain": [
       "array([<class 'str'>], dtype=object)"
      ]
     },
     "metadata": {},
     "output_type": "display_data"
    },
    {
     "data": {
      "text/plain": [
       "array([<class 'float'>, <class 'str'>], dtype=object)"
      ]
     },
     "metadata": {},
     "output_type": "display_data"
    },
    {
     "data": {
      "text/plain": [
       "array([<class 'float'>, <class 'str'>], dtype=object)"
      ]
     },
     "metadata": {},
     "output_type": "display_data"
    },
    {
     "data": {
      "text/plain": [
       "array([<class 'str'>], dtype=object)"
      ]
     },
     "metadata": {},
     "output_type": "display_data"
    },
    {
     "name": "stdout",
     "output_type": "stream",
     "text": [
      "....\n"
     ]
    },
    {
     "data": {
      "text/plain": [
       "array([<class 'float'>, <class 'str'>], dtype=object)"
      ]
     },
     "metadata": {},
     "output_type": "display_data"
    },
    {
     "data": {
      "text/plain": [
       "array([<class 'float'>, <class 'str'>], dtype=object)"
      ]
     },
     "metadata": {},
     "output_type": "display_data"
    },
    {
     "data": {
      "text/plain": [
       "array([<class 'float'>, <class 'str'>], dtype=object)"
      ]
     },
     "metadata": {},
     "output_type": "display_data"
    },
    {
     "data": {
      "text/plain": [
       "array([<class 'float'>, <class 'str'>], dtype=object)"
      ]
     },
     "metadata": {},
     "output_type": "display_data"
    }
   ],
   "source": [
    "# check types for the columns with dtype object\n",
    "\n",
    "\n",
    "display(requests[\"status\"].apply(type).unique())        # str\n",
    "display(requests[\"created_at\"].apply(type).unique())    # str\n",
    "display(requests[\"updated_at\"].apply(type).unique())    # str\n",
    "display(requests[\"moderated_at\"].apply(type).unique())  # str, float\n",
    "print(\"....\")\n",
    "display(requests[\"reimbursement_date\"].apply(type).unique())            # str\n",
    "display(requests[\"cash_request_received_date\"].apply(type).unique())    # str, float\n",
    "display(requests[\"money_back_date\"].apply(type).unique())               # str, float\n",
    "display(requests[\"transfer_type\"].apply(type).unique())                 # str\n",
    "print(\"....\")\n",
    "display(requests[\"send_at\"].apply(type).unique())                       # str, float\n",
    "display(requests[\"recovery_status\"].apply(type).unique())               # str, float\n",
    "display(requests[\"reco_creation\"].apply(type).unique())                 # str, float\n",
    "display(requests[\"reco_last_update\"].apply(type).unique())              # str, float\n",
    "\n",
    "\n"
   ]
  }
 ],
 "metadata": {
  "kernelspec": {
   "display_name": "Python 3",
   "language": "python",
   "name": "python3"
  },
  "language_info": {
   "codemirror_mode": {
    "name": "ipython",
    "version": 3
   },
   "file_extension": ".py",
   "mimetype": "text/x-python",
   "name": "python",
   "nbconvert_exporter": "python",
   "pygments_lexer": "ipython3",
   "version": "3.13.2"
  }
 },
 "nbformat": 4,
 "nbformat_minor": 2
}
