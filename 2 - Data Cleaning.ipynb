{
 "cells": [
  {
   "cell_type": "markdown",
   "metadata": {},
   "source": [
    "# Data clearning"
   ]
  },
  {
   "cell_type": "code",
   "execution_count": 9,
   "metadata": {},
   "outputs": [],
   "source": [
    "import pandas as pd\n",
    "\n",
    "fees = pd.read_csv(\"project_dataset\\\\extract - fees - data analyst - .csv\")\n",
    "requests = pd.read_csv(\"project_dataset\\\\extract - cash request - data analyst.csv\")"
   ]
  },
  {
   "cell_type": "markdown",
   "metadata": {},
   "source": [
    "## Fees\n",
    "\n",
    "Missing data:\n",
    "- 4 entries seem to have `cash_request_id` missing. Assuming that this data can not be recovered, they will need to be cleaned.\n",
    "\n",
    "\n",
    "Format:\n",
    "- All columns with dates (\"created_at\", \"updated_at\", \"paid_at\", \"from_date\", \"to_date\") need to be converted to a valid date format. \n",
    "    - Note: at the moment they're stored as str and float (those with float are likely because the data is NaN)\n",
    "\n"
   ]
  },
  {
   "cell_type": "code",
   "execution_count": null,
   "metadata": {},
   "outputs": [
    {
     "data": {
      "text/plain": [
       "(21061, 13)"
      ]
     },
     "metadata": {},
     "output_type": "display_data"
    },
    {
     "data": {
      "text/plain": [
       "(21057, 13)"
      ]
     },
     "metadata": {},
     "output_type": "display_data"
    }
   ],
   "source": [
    "#\n",
    "# remove all entries where `cash_request_id` is missing\n",
    "#\n",
    "\n",
    "# display(fees.shape) # 21061\n",
    "\n",
    "fees = fees.dropna(subset=[\"cash_request_id\"])\n",
    "\n",
    "# display(fees.shape) # 21057\n",
    "\n"
   ]
  },
  {
   "cell_type": "code",
   "execution_count": 16,
   "metadata": {},
   "outputs": [
    {
     "data": {
      "text/plain": [
       "created_at        0\n",
       "updated_at        0\n",
       "paid_at        5619\n",
       "from_date     14308\n",
       "to_date       14545\n",
       "dtype: int64"
      ]
     },
     "execution_count": 16,
     "metadata": {},
     "output_type": "execute_result"
    }
   ],
   "source": [
    "#\n",
    "# convert all columns with dates to datetime objects\n",
    "#\n",
    "\n",
    "# display(fees.dtypes)\n",
    "\n",
    "date_columns = [\"created_at\", \"updated_at\", \"paid_at\", \"from_date\", \"to_date\"]\n",
    "fees[date_columns] = fees[date_columns].apply(pd.to_datetime, errors=\"coerce\")\n",
    "\n",
    "# display(fees.dtypes)\n",
    "\n",
    "\n",
    "#\n",
    "# Note: all dates are now converted to datetime objects, but there's rows with missing dates (NaT)\n",
    "#\n",
    "fees[date_columns].isna().sum()\n",
    "\n",
    "\n"
   ]
  },
  {
   "cell_type": "markdown",
   "metadata": {},
   "source": [
    "## Requests\n",
    "\n",
    "- Format:\n",
    "    - The columns `user_id` and `deleted_account_id` are stored as float. They need to be converted to int.\n",
    "    - All columns with dates need to be converted to a valid date format. \n",
    "        - Note: at the moment they're stored as str and float (those with float are likely because the data is NaN)\n",
    "        - List of columns to convert to date:\n",
    "            - \"created_at\"\n",
    "            - \"updated_at\"\n",
    "            - \"moderated_at\"\n",
    "            - \"reimbursement_date\"\n",
    "            - \"cash_request_received_date\"\n",
    "            - \"money_back_date\"\n",
    "            - \"send_at\"\n",
    "            - \"reco_creation\"\n",
    "            - \"reco_last_update\"\n",
    "\n",
    "\n"
   ]
  },
  {
   "cell_type": "code",
   "execution_count": 22,
   "metadata": {},
   "outputs": [],
   "source": [
    "# Convert `user_id` and `deleted_account_id` to int.\n",
    "\n",
    "\n",
    "requests[\"user_id\"] = requests[\"user_id\"].astype(\"Int64\")\n",
    "requests[\"deleted_account_id\"] = requests[\"deleted_account_id\"].astype(\"Int64\")\n",
    "\n",
    "\n",
    "# display(requests.dtypes) "
   ]
  },
  {
   "cell_type": "code",
   "execution_count": null,
   "metadata": {},
   "outputs": [
    {
     "data": {
      "text/plain": [
       "id                              int64\n",
       "amount                        float64\n",
       "status                         object\n",
       "created_at                     object\n",
       "updated_at                     object\n",
       "user_id                         Int64\n",
       "moderated_at                   object\n",
       "deleted_account_id              Int64\n",
       "reimbursement_date             object\n",
       "cash_request_received_date     object\n",
       "money_back_date                object\n",
       "transfer_type                  object\n",
       "send_at                        object\n",
       "recovery_status                object\n",
       "reco_creation                  object\n",
       "reco_last_update               object\n",
       "dtype: object"
      ]
     },
     "metadata": {},
     "output_type": "display_data"
    },
    {
     "data": {
      "text/plain": [
       "id                                          int64\n",
       "amount                                    float64\n",
       "status                                     object\n",
       "created_at                    datetime64[ns, UTC]\n",
       "updated_at                    datetime64[ns, UTC]\n",
       "user_id                                     Int64\n",
       "moderated_at                  datetime64[ns, UTC]\n",
       "deleted_account_id                          Int64\n",
       "reimbursement_date            datetime64[ns, UTC]\n",
       "cash_request_received_date         datetime64[ns]\n",
       "money_back_date               datetime64[ns, UTC]\n",
       "transfer_type                              object\n",
       "send_at                       datetime64[ns, UTC]\n",
       "recovery_status                            object\n",
       "reco_creation                 datetime64[ns, UTC]\n",
       "reco_last_update              datetime64[ns, UTC]\n",
       "dtype: object"
      ]
     },
     "metadata": {},
     "output_type": "display_data"
    }
   ],
   "source": [
    "#\n",
    "# convert all columns with dates to datetime objects\n",
    "#\n",
    "\n",
    "display(requests.dtypes)\n",
    "\n",
    "\n",
    "\n",
    "date_columns = [\n",
    "    \"created_at\", \n",
    "    \"updated_at\", \n",
    "    \"moderated_at\", \n",
    "    \"reimbursement_date\", \n",
    "    \"cash_request_received_date\", \n",
    "    \"money_back_date\", \n",
    "    \"send_at\", \n",
    "    \"reco_creation\", \n",
    "    \"reco_last_update\"\n",
    "]\n",
    "\n",
    "requests[date_columns] = requests[date_columns].apply(pd.to_datetime, errors=\"coerce\")\n",
    "\n",
    "display(requests.dtypes)\n",
    "\n",
    "\n",
    "\n"
   ]
  },
  {
   "cell_type": "markdown",
   "metadata": {},
   "source": [
    "\n",
    "<br><br>\n",
    "\n",
    "\n",
    "## Add timezone for `cash_request_received_date` \n",
    "\n",
    "- All columns except `cash_request_received_date` have UTC timezone.\n",
    "- We'll assume that the times in `cash_request_received_date`are also in UTC and modify all the values accordingly.\n",
    "\n",
    "<br>"
   ]
  },
  {
   "cell_type": "code",
   "execution_count": 24,
   "metadata": {},
   "outputs": [
    {
     "data": {
      "text/plain": [
       "id                                          int64\n",
       "amount                                    float64\n",
       "status                                     object\n",
       "created_at                    datetime64[ns, UTC]\n",
       "updated_at                    datetime64[ns, UTC]\n",
       "user_id                                     Int64\n",
       "moderated_at                  datetime64[ns, UTC]\n",
       "deleted_account_id                          Int64\n",
       "reimbursement_date            datetime64[ns, UTC]\n",
       "cash_request_received_date    datetime64[ns, UTC]\n",
       "money_back_date               datetime64[ns, UTC]\n",
       "transfer_type                              object\n",
       "send_at                       datetime64[ns, UTC]\n",
       "recovery_status                            object\n",
       "reco_creation                 datetime64[ns, UTC]\n",
       "reco_last_update              datetime64[ns, UTC]\n",
       "dtype: object"
      ]
     },
     "metadata": {},
     "output_type": "display_data"
    }
   ],
   "source": [
    "requests[\"cash_request_received_date\"] = requests[\"cash_request_received_date\"].dt.tz_localize(\"UTC\")\n",
    "\n",
    "display(requests.dtypes)\n"
   ]
  },
  {
   "cell_type": "code",
   "execution_count": 27,
   "metadata": {},
   "outputs": [
    {
     "data": {
      "text/plain": [
       "created_at                        0\n",
       "updated_at                        0\n",
       "moderated_at                   8058\n",
       "reimbursement_date            20920\n",
       "cash_request_received_date     7681\n",
       "money_back_date               11930\n",
       "send_at                        7504\n",
       "reco_creation                 20640\n",
       "reco_last_update              20640\n",
       "dtype: int64"
      ]
     },
     "execution_count": 27,
     "metadata": {},
     "output_type": "execute_result"
    }
   ],
   "source": [
    "#\n",
    "# Note: all dates are now converted to datetime objects, but there's rows with missing dates (NaT)\n",
    "#\n",
    "requests[date_columns].isna().sum()"
   ]
  }
 ],
 "metadata": {
  "kernelspec": {
   "display_name": "Python 3",
   "language": "python",
   "name": "python3"
  },
  "language_info": {
   "codemirror_mode": {
    "name": "ipython",
    "version": 3
   },
   "file_extension": ".py",
   "mimetype": "text/x-python",
   "name": "python",
   "nbconvert_exporter": "python",
   "pygments_lexer": "ipython3",
   "version": "3.13.2"
  }
 },
 "nbformat": 4,
 "nbformat_minor": 2
}
