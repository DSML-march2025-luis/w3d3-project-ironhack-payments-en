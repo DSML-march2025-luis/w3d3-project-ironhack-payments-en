{
 "cells": [
  {
   "cell_type": "markdown",
   "metadata": {},
   "source": [
    "# Exploratory Data Analysis for Fees\n",
    "\n",
    "\n",
    "## Conclusions and key findings from EDA:\n",
    "\n",
    "Fees:\n",
    "\n",
    "\n",
    "- Missing data:\n",
    "    - 4 entries seem to have cash_request_id missing. Assuming that this data can not be recovered, they will need to be cleaned.\n",
    "    - At first glance, it seems all the rest is correct:\n",
    "        - `total_amount` seems to be 5.0 for almost all fees\n",
    "            - Out of 21k entries, there's only 1 fee where total_amount is 10. All the others have total_amount = 5\n",
    "            - We'll assume that it's not a mistake and keep it as it is.\n",
    "        - `paid_at` is missing for 5530 entries but at first glance it may be normal (e.g. if the fee is still pending payment)\n",
    "        - Some other columns also have missing data (\"category\", \"from_date\", \"to_date\") but at first glance it seems normal (those columns only apply to specific cases)\n",
    "\n",
    "- Format:\n",
    "    - All columns with dates (\"created_at\", \"updated_at\", \"paid_at\", \"from_date\", \"to_date\") need to be converted to a valid date format. \n",
    "        - Note: at the moment they're stored as str and float (those with float are likely because the data is NaN)\n",
    "\n",
    "\n",
    "\n",
    "<br>\n",
    "<br>\n"
   ]
  },
  {
   "cell_type": "code",
   "execution_count": 1,
   "metadata": {},
   "outputs": [],
   "source": [
    "import pandas as pd\n",
    "\n",
    "fees = pd.read_csv(\"project_dataset\\\\extract - fees - data analyst - .csv\")\n"
   ]
  },
  {
   "cell_type": "markdown",
   "metadata": {},
   "source": [
    "## EDA: fees\n"
   ]
  },
  {
   "cell_type": "code",
   "execution_count": 34,
   "metadata": {},
   "outputs": [
    {
     "data": {
      "text/plain": [
       "(21061, 13)"
      ]
     },
     "metadata": {},
     "output_type": "display_data"
    },
    {
     "data": {
      "text/plain": [
       "Index(['id', 'cash_request_id', 'type', 'status', 'category', 'total_amount',\n",
       "       'reason', 'created_at', 'updated_at', 'paid_at', 'from_date', 'to_date',\n",
       "       'charge_moment'],\n",
       "      dtype='object')"
      ]
     },
     "metadata": {},
     "output_type": "display_data"
    }
   ],
   "source": [
    "display(fees.shape)\n",
    "display(fees.columns)\n",
    "# display(fees.head())\n",
    "# display(fees.sample(10))\n",
    "# display(fees.tail())"
   ]
  },
  {
   "cell_type": "code",
   "execution_count": 9,
   "metadata": {},
   "outputs": [
    {
     "data": {
      "text/html": [
       "<div>\n",
       "<style scoped>\n",
       "    .dataframe tbody tr th:only-of-type {\n",
       "        vertical-align: middle;\n",
       "    }\n",
       "\n",
       "    .dataframe tbody tr th {\n",
       "        vertical-align: top;\n",
       "    }\n",
       "\n",
       "    .dataframe thead th {\n",
       "        text-align: right;\n",
       "    }\n",
       "</style>\n",
       "<table border=\"1\" class=\"dataframe\">\n",
       "  <thead>\n",
       "    <tr style=\"text-align: right;\">\n",
       "      <th></th>\n",
       "      <th>id</th>\n",
       "      <th>cash_request_id</th>\n",
       "      <th>total_amount</th>\n",
       "    </tr>\n",
       "  </thead>\n",
       "  <tbody>\n",
       "    <tr>\n",
       "      <th>count</th>\n",
       "      <td>21061.000000</td>\n",
       "      <td>21057.000000</td>\n",
       "      <td>21061.000000</td>\n",
       "    </tr>\n",
       "    <tr>\n",
       "      <th>mean</th>\n",
       "      <td>10645.355111</td>\n",
       "      <td>16318.449162</td>\n",
       "      <td>5.000237</td>\n",
       "    </tr>\n",
       "    <tr>\n",
       "      <th>std</th>\n",
       "      <td>6099.315256</td>\n",
       "      <td>6656.149949</td>\n",
       "      <td>0.034453</td>\n",
       "    </tr>\n",
       "    <tr>\n",
       "      <th>min</th>\n",
       "      <td>1.000000</td>\n",
       "      <td>1456.000000</td>\n",
       "      <td>5.000000</td>\n",
       "    </tr>\n",
       "    <tr>\n",
       "      <th>25%</th>\n",
       "      <td>5385.000000</td>\n",
       "      <td>11745.000000</td>\n",
       "      <td>5.000000</td>\n",
       "    </tr>\n",
       "    <tr>\n",
       "      <th>50%</th>\n",
       "      <td>10652.000000</td>\n",
       "      <td>17160.000000</td>\n",
       "      <td>5.000000</td>\n",
       "    </tr>\n",
       "    <tr>\n",
       "      <th>75%</th>\n",
       "      <td>15925.000000</td>\n",
       "      <td>21796.000000</td>\n",
       "      <td>5.000000</td>\n",
       "    </tr>\n",
       "    <tr>\n",
       "      <th>max</th>\n",
       "      <td>21193.000000</td>\n",
       "      <td>27010.000000</td>\n",
       "      <td>10.000000</td>\n",
       "    </tr>\n",
       "  </tbody>\n",
       "</table>\n",
       "</div>"
      ],
      "text/plain": [
       "                 id  cash_request_id  total_amount\n",
       "count  21061.000000     21057.000000  21061.000000\n",
       "mean   10645.355111     16318.449162      5.000237\n",
       "std     6099.315256      6656.149949      0.034453\n",
       "min        1.000000      1456.000000      5.000000\n",
       "25%     5385.000000     11745.000000      5.000000\n",
       "50%    10652.000000     17160.000000      5.000000\n",
       "75%    15925.000000     21796.000000      5.000000\n",
       "max    21193.000000     27010.000000     10.000000"
      ]
     },
     "metadata": {},
     "output_type": "display_data"
    }
   ],
   "source": [
    "display(fees.describe())"
   ]
  },
  {
   "cell_type": "code",
   "execution_count": 11,
   "metadata": {},
   "outputs": [
    {
     "data": {
      "text/html": [
       "<div>\n",
       "<style scoped>\n",
       "    .dataframe tbody tr th:only-of-type {\n",
       "        vertical-align: middle;\n",
       "    }\n",
       "\n",
       "    .dataframe tbody tr th {\n",
       "        vertical-align: top;\n",
       "    }\n",
       "\n",
       "    .dataframe thead th {\n",
       "        text-align: right;\n",
       "    }\n",
       "</style>\n",
       "<table border=\"1\" class=\"dataframe\">\n",
       "  <thead>\n",
       "    <tr style=\"text-align: right;\">\n",
       "      <th></th>\n",
       "      <th>id</th>\n",
       "      <th>cash_request_id</th>\n",
       "      <th>type</th>\n",
       "      <th>status</th>\n",
       "      <th>category</th>\n",
       "      <th>total_amount</th>\n",
       "      <th>reason</th>\n",
       "      <th>created_at</th>\n",
       "      <th>updated_at</th>\n",
       "      <th>paid_at</th>\n",
       "      <th>from_date</th>\n",
       "      <th>to_date</th>\n",
       "      <th>charge_moment</th>\n",
       "    </tr>\n",
       "  </thead>\n",
       "  <tbody>\n",
       "    <tr>\n",
       "      <th>1911</th>\n",
       "      <td>2990</td>\n",
       "      <td>NaN</td>\n",
       "      <td>instant_payment</td>\n",
       "      <td>cancelled</td>\n",
       "      <td>NaN</td>\n",
       "      <td>5.0</td>\n",
       "      <td>Instant Payment Cash Request 11164</td>\n",
       "      <td>2020-08-06 22:42:34.525373+00</td>\n",
       "      <td>2020-11-04 16:01:17.296048+00</td>\n",
       "      <td>NaN</td>\n",
       "      <td>NaN</td>\n",
       "      <td>NaN</td>\n",
       "      <td>after</td>\n",
       "    </tr>\n",
       "    <tr>\n",
       "      <th>1960</th>\n",
       "      <td>3124</td>\n",
       "      <td>NaN</td>\n",
       "      <td>instant_payment</td>\n",
       "      <td>cancelled</td>\n",
       "      <td>NaN</td>\n",
       "      <td>5.0</td>\n",
       "      <td>Instant Payment Cash Request 11444</td>\n",
       "      <td>2020-08-08 06:33:06.244651+00</td>\n",
       "      <td>2020-11-04 16:01:08.332978+00</td>\n",
       "      <td>NaN</td>\n",
       "      <td>NaN</td>\n",
       "      <td>NaN</td>\n",
       "      <td>after</td>\n",
       "    </tr>\n",
       "    <tr>\n",
       "      <th>4605</th>\n",
       "      <td>5185</td>\n",
       "      <td>NaN</td>\n",
       "      <td>instant_payment</td>\n",
       "      <td>cancelled</td>\n",
       "      <td>NaN</td>\n",
       "      <td>5.0</td>\n",
       "      <td>Instant Payment Cash Request 11788</td>\n",
       "      <td>2020-08-26 09:39:37.362933+00</td>\n",
       "      <td>2020-11-04 16:01:36.492576+00</td>\n",
       "      <td>NaN</td>\n",
       "      <td>NaN</td>\n",
       "      <td>NaN</td>\n",
       "      <td>after</td>\n",
       "    </tr>\n",
       "    <tr>\n",
       "      <th>11870</th>\n",
       "      <td>3590</td>\n",
       "      <td>NaN</td>\n",
       "      <td>instant_payment</td>\n",
       "      <td>cancelled</td>\n",
       "      <td>NaN</td>\n",
       "      <td>5.0</td>\n",
       "      <td>Instant Payment Cash Request 12212</td>\n",
       "      <td>2020-08-12 14:20:06.657075+00</td>\n",
       "      <td>2020-11-04 16:01:53.106416+00</td>\n",
       "      <td>NaN</td>\n",
       "      <td>NaN</td>\n",
       "      <td>NaN</td>\n",
       "      <td>after</td>\n",
       "    </tr>\n",
       "  </tbody>\n",
       "</table>\n",
       "</div>"
      ],
      "text/plain": [
       "         id  cash_request_id             type     status category  \\\n",
       "1911   2990              NaN  instant_payment  cancelled      NaN   \n",
       "1960   3124              NaN  instant_payment  cancelled      NaN   \n",
       "4605   5185              NaN  instant_payment  cancelled      NaN   \n",
       "11870  3590              NaN  instant_payment  cancelled      NaN   \n",
       "\n",
       "       total_amount                              reason  \\\n",
       "1911            5.0  Instant Payment Cash Request 11164   \n",
       "1960            5.0  Instant Payment Cash Request 11444   \n",
       "4605            5.0  Instant Payment Cash Request 11788   \n",
       "11870           5.0  Instant Payment Cash Request 12212   \n",
       "\n",
       "                          created_at                     updated_at paid_at  \\\n",
       "1911   2020-08-06 22:42:34.525373+00  2020-11-04 16:01:17.296048+00     NaN   \n",
       "1960   2020-08-08 06:33:06.244651+00  2020-11-04 16:01:08.332978+00     NaN   \n",
       "4605   2020-08-26 09:39:37.362933+00  2020-11-04 16:01:36.492576+00     NaN   \n",
       "11870  2020-08-12 14:20:06.657075+00  2020-11-04 16:01:53.106416+00     NaN   \n",
       "\n",
       "      from_date to_date charge_moment  \n",
       "1911        NaN     NaN         after  \n",
       "1960        NaN     NaN         after  \n",
       "4605        NaN     NaN         after  \n",
       "11870       NaN     NaN         after  "
      ]
     },
     "execution_count": 11,
     "metadata": {},
     "output_type": "execute_result"
    }
   ],
   "source": [
    "# Get fees without cash_request_id\n",
    "\n",
    "fees[fees[\"cash_request_id\"].isna()]\n"
   ]
  },
  {
   "cell_type": "code",
   "execution_count": 15,
   "metadata": {},
   "outputs": [
    {
     "data": {
      "text/html": [
       "<div>\n",
       "<style scoped>\n",
       "    .dataframe tbody tr th:only-of-type {\n",
       "        vertical-align: middle;\n",
       "    }\n",
       "\n",
       "    .dataframe tbody tr th {\n",
       "        vertical-align: top;\n",
       "    }\n",
       "\n",
       "    .dataframe thead th {\n",
       "        text-align: right;\n",
       "    }\n",
       "</style>\n",
       "<table border=\"1\" class=\"dataframe\">\n",
       "  <thead>\n",
       "    <tr style=\"text-align: right;\">\n",
       "      <th></th>\n",
       "      <th>id</th>\n",
       "      <th>cash_request_id</th>\n",
       "      <th>type</th>\n",
       "      <th>status</th>\n",
       "      <th>category</th>\n",
       "      <th>total_amount</th>\n",
       "      <th>reason</th>\n",
       "      <th>created_at</th>\n",
       "      <th>updated_at</th>\n",
       "      <th>paid_at</th>\n",
       "      <th>from_date</th>\n",
       "      <th>to_date</th>\n",
       "      <th>charge_moment</th>\n",
       "    </tr>\n",
       "  </thead>\n",
       "  <tbody>\n",
       "    <tr>\n",
       "      <th>20604</th>\n",
       "      <td>15552</td>\n",
       "      <td>22799.0</td>\n",
       "      <td>instant_payment</td>\n",
       "      <td>accepted</td>\n",
       "      <td>NaN</td>\n",
       "      <td>10.0</td>\n",
       "      <td>Instant Payment Cash Request 22799</td>\n",
       "      <td>2020-10-21 13:01:52.493241+00</td>\n",
       "      <td>2021-01-21 15:42:51.372269+00</td>\n",
       "      <td>2020-10-30 00:18:41+00</td>\n",
       "      <td>NaN</td>\n",
       "      <td>NaN</td>\n",
       "      <td>after</td>\n",
       "    </tr>\n",
       "  </tbody>\n",
       "</table>\n",
       "</div>"
      ],
      "text/plain": [
       "          id  cash_request_id             type    status category  \\\n",
       "20604  15552          22799.0  instant_payment  accepted      NaN   \n",
       "\n",
       "       total_amount                              reason  \\\n",
       "20604          10.0  Instant Payment Cash Request 22799   \n",
       "\n",
       "                          created_at                     updated_at  \\\n",
       "20604  2020-10-21 13:01:52.493241+00  2021-01-21 15:42:51.372269+00   \n",
       "\n",
       "                      paid_at from_date to_date charge_moment  \n",
       "20604  2020-10-30 00:18:41+00       NaN     NaN         after  "
      ]
     },
     "execution_count": 15,
     "metadata": {},
     "output_type": "execute_result"
    }
   ],
   "source": [
    "# get fees with total_amount different than 5\n",
    "\n",
    "fees[fees[\"total_amount\"] != 5]"
   ]
  },
  {
   "cell_type": "code",
   "execution_count": 19,
   "metadata": {},
   "outputs": [
    {
     "data": {
      "text/plain": [
       "id                     0\n",
       "cash_request_id        4\n",
       "type                   0\n",
       "status                 0\n",
       "category           18865\n",
       "total_amount           0\n",
       "reason                 0\n",
       "created_at             0\n",
       "updated_at             0\n",
       "paid_at             5530\n",
       "from_date          13295\n",
       "to_date            13295\n",
       "charge_moment          0\n",
       "dtype: int64"
      ]
     },
     "execution_count": 19,
     "metadata": {},
     "output_type": "execute_result"
    }
   ],
   "source": [
    "# check missing data\n",
    "\n",
    "fees.isna().sum()"
   ]
  },
  {
   "cell_type": "code",
   "execution_count": null,
   "metadata": {},
   "outputs": [
    {
     "data": {
      "text/plain": [
       "id                   int64\n",
       "cash_request_id    float64\n",
       "type                object\n",
       "status              object\n",
       "category            object\n",
       "total_amount       float64\n",
       "reason              object\n",
       "created_at          object\n",
       "updated_at          object\n",
       "paid_at             object\n",
       "from_date           object\n",
       "to_date             object\n",
       "charge_moment       object\n",
       "dtype: object"
      ]
     },
     "execution_count": 26,
     "metadata": {},
     "output_type": "execute_result"
    }
   ],
   "source": [
    "# check data types\n",
    "\n",
    "fees.dtypes"
   ]
  },
  {
   "cell_type": "code",
   "execution_count": 31,
   "metadata": {},
   "outputs": [
    {
     "data": {
      "text/plain": [
       "array([<class 'str'>], dtype=object)"
      ]
     },
     "metadata": {},
     "output_type": "display_data"
    },
    {
     "data": {
      "text/plain": [
       "array([<class 'str'>], dtype=object)"
      ]
     },
     "metadata": {},
     "output_type": "display_data"
    },
    {
     "data": {
      "text/plain": [
       "array([<class 'str'>, <class 'float'>], dtype=object)"
      ]
     },
     "metadata": {},
     "output_type": "display_data"
    },
    {
     "data": {
      "text/plain": [
       "array([<class 'float'>, <class 'str'>], dtype=object)"
      ]
     },
     "metadata": {},
     "output_type": "display_data"
    },
    {
     "data": {
      "text/plain": [
       "array([<class 'float'>, <class 'str'>], dtype=object)"
      ]
     },
     "metadata": {},
     "output_type": "display_data"
    }
   ],
   "source": [
    "# check the format of the columns with dates\n",
    "\n",
    "\n",
    "display(fees[\"created_at\"].apply(type).unique())    # str\n",
    "display(fees[\"updated_at\"].apply(type).unique())    # str\n",
    "display(fees[\"paid_at\"].apply(type).unique())       # str, float\n",
    "display(fees[\"from_date\"].apply(type).unique())     # str, float\n",
    "display(fees[\"to_date\"].apply(type).unique())       # str, float\n",
    "\n"
   ]
  },
  {
   "cell_type": "code",
   "execution_count": 40,
   "metadata": {},
   "outputs": [
    {
     "data": {
      "text/plain": [
       "0"
      ]
     },
     "metadata": {},
     "output_type": "display_data"
    }
   ],
   "source": [
    "# some columns with dates have entries with the data type float.\n",
    "# check if they're the same entries where data is not available NaN (in case they're not, it can indicate corrupted data)\n",
    "\n",
    "fees_with_valid_dates = fees[[\"paid_at\", \"from_date\", \"to_date\"]].apply(pd.to_datetime, errors=\"coerce\")\n",
    "\n",
    "missing_count = fees.shape[0] - fees_with_valid_dates.shape[0]\n",
    "\n",
    "display(missing_count) # 0\n",
    "\n",
    "\n"
   ]
  }
 ],
 "metadata": {
  "kernelspec": {
   "display_name": "Python 3",
   "language": "python",
   "name": "python3"
  },
  "language_info": {
   "codemirror_mode": {
    "name": "ipython",
    "version": 3
   },
   "file_extension": ".py",
   "mimetype": "text/x-python",
   "name": "python",
   "nbconvert_exporter": "python",
   "pygments_lexer": "ipython3",
   "version": "3.13.2"
  }
 },
 "nbformat": 4,
 "nbformat_minor": 2
}
